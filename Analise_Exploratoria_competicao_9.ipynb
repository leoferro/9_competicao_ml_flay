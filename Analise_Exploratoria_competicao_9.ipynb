{
  "nbformat": 4,
  "nbformat_minor": 0,
  "metadata": {
    "colab": {
      "name": "Analise Exploratoria competicao 9.ipynb",
      "provenance": [],
      "authorship_tag": "ABX9TyPwN6/g+WcgN4UFWqLUv7w3",
      "include_colab_link": true
    },
    "kernelspec": {
      "name": "python3",
      "display_name": "Python 3"
    },
    "language_info": {
      "name": "python"
    }
  },
  "cells": [
    {
      "cell_type": "markdown",
      "metadata": {
        "id": "view-in-github",
        "colab_type": "text"
      },
      "source": [
        "<a href=\"https://colab.research.google.com/github/leoferro/9_competicao_ml_flay/blob/main/Analise_Exploratoria_competicao_9.ipynb\" target=\"_parent\"><img src=\"https://colab.research.google.com/assets/colab-badge.svg\" alt=\"Open In Colab\"/></a>"
      ]
    },
    {
      "cell_type": "code",
      "execution_count": null,
      "metadata": {
        "id": "DAx5Gmb4rRjJ"
      },
      "outputs": [],
      "source": [
        ""
      ]
    }
  ]
}